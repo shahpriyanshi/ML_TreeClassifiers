{
  "nbformat": 4,
  "nbformat_minor": 0,
  "metadata": {
    "colab": {
      "name": "Extra_Marks.ipynb",
      "provenance": []
    },
    "kernelspec": {
      "display_name": "Python 3",
      "name": "python3"
    },
    "language_info": {
      "name": "python"
    }
  },
  "cells": [
    {
      "cell_type": "code",
      "metadata": {
        "id": "SETn3PkxLDoR"
      },
      "source": [
        "import csv\n",
        "import pandas as pd\n",
        "from sklearn.tree import DecisionTreeClassifier\n",
        "from sklearn.model_selection import GridSearchCV\n",
        "from sklearn.metrics import confusion_matrix, accuracy_score\n",
        "from sklearn.metrics import f1_score\n",
        "from sklearn.utils import shuffle\n",
        "from sklearn.ensemble import RandomForestClassifier, GradientBoostingClassifier, BaggingClassifier\n",
        "from sklearn.datasets import fetch_openml\n",
        "# Load data from https://www.openml.org/d/554\n",
        "X, y = fetch_openml('mnist_784', version=1, return_X_y=True)\n",
        "\n",
        "#normalizing the data\n",
        "X = X / 255.\n",
        "\n",
        "# (60K: Train) and (10K: Test)\n",
        "X_train, X_test = X[:60000], X[60000:]\n",
        "y_train, y_test = y[:60000], y[60000:]\n"
      ],
      "execution_count": null,
      "outputs": []
    },
    {
      "cell_type": "code",
      "metadata": {
        "colab": {
          "background_save": true
        },
        "id": "CGf7zG3KLI11"
      },
      "source": [
        "def evaluate_model(dt_classifier, x, y, l):\n",
        "    y_pred=dt_classifier.predict(x)\n",
        "    print(\"Test Accuracy for\", l, \"is\", accuracy_score(y, y_pred))\n",
        "    print(\"Test Confusion Matrix:\")\n",
        "    print(confusion_matrix(y, y_pred))\n",
        "\n",
        "tree_model=None\n",
        "\n",
        "for l in ['tree', 'bagging', 'randomForest', 'gradientBoosting']:\n",
        "\n",
        "  if l=='tree':\n",
        "    params = {\n",
        "        'max_depth': [5, 10, 20],\n",
        "        'min_samples_leaf': [5, 10, 20],\n",
        "        'max_features': [2, 30, 80],\n",
        "        'splitter': [\"best\", \"random\"]\n",
        "    }\n",
        "\n",
        "  dt = DecisionTreeClassifier(random_state=42)\n",
        "  grid_search = GridSearchCV(estimator=dt, param_grid=params, cv=4, n_jobs=-1, scoring = \"accuracy\")\n",
        "\n",
        "  if l == 'bagging':\n",
        "    params = {\n",
        "    'bootstrap': [True, False],\n",
        "    'n_estimators': [10, 30],\n",
        "    'base_estimator__max_depth': [2, 3, 4],\n",
        "    'base_estimator__splitter': [\"best\", \"random\"]\n",
        "    }\n",
        "    grid_search = GridSearchCV(BaggingClassifier(base_estimator=dt, random_state=42), param_grid=params, cv=5, scoring = \"accuracy\")\n",
        "\n",
        "  if l=='randomForest':\n",
        "    params= {\n",
        "    'bootstrap': [True],\n",
        "    'max_features': [3, 50, 300],\n",
        "    'n_estimators': [100, 200]\n",
        "    }\n",
        "    rf = RandomForestClassifier(random_state=42)\n",
        "    grid_search = GridSearchCV(estimator=rf, param_grid=params, cv=5, scoring = \"accuracy\")\n",
        "\n",
        "  if l=='gradientBoosting':\n",
        "    gbc = GradientBoostingClassifier()\n",
        "    params = {\n",
        "      \"n_estimators\":[20, 30, 40],\n",
        "      \"max_depth\":[5,7,9],\n",
        "      \"learning_rate\":[0.01,0.1,1,10]\n",
        "    }\n",
        "    grid_search = GridSearchCV(estimator=gbc, param_grid=params, cv=5, scoring = \"accuracy\")\n",
        "\n",
        "  grid_search.fit(X_train, y_train)\n",
        "  dt_best = grid_search.best_estimator_\n",
        "  evaluate_model(dt_best, X_test, y_test, l)\n"
      ],
      "execution_count": null,
      "outputs": []
    },
    {
      "cell_type": "code",
      "metadata": {
        "id": "Z7-kRNUTMf23"
      },
      "source": [
        ""
      ],
      "execution_count": null,
      "outputs": []
    }
  ]
}